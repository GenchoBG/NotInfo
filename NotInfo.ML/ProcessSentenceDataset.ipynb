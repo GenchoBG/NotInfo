{
 "cells": [
  {
   "cell_type": "code",
   "execution_count": 3,
   "metadata": {},
   "outputs": [],
   "source": [
    "import pandas as pd\n",
    "import os"
   ]
  },
  {
   "cell_type": "code",
   "execution_count": 4,
   "metadata": {},
   "outputs": [],
   "source": [
    "dataset_folder = \"./data/sentencedata\"\n",
    "destination_csv_path = \"./data/sentencedata.csv\""
   ]
  },
  {
   "cell_type": "code",
   "execution_count": 17,
   "metadata": {},
   "outputs": [
    {
     "name": "stdout",
     "output_type": "stream",
     "text": [
      "Number of Sentences: 50\n",
      "Number of Labels: 50\n"
     ]
    }
   ],
   "source": [
    "def get_sentences_and_labels(article_id,directory=None):\n",
    "    assert(directory is not None)\n",
    "    \n",
    "    article_file_path = os.path.join(directory, \"article\" + str(article_id) + \".txt\")\n",
    "    sentence_labels_file = os.path.join(directory, \"article\" + str(article_id) + \".task2.labels\")\n",
    "    \n",
    "    article_sentences = []\n",
    "    with open(article_file_path, \"r\", encoding=\"utf8\") as article:\n",
    "        for sent in article:\n",
    "            article_sentences.append(str.strip(sent))\n",
    "    \n",
    "    sentence_labels = []\n",
    "    sentence_ids = []\n",
    "    with open(sentence_labels_file, \"r\") as labels:\n",
    "        for label in labels:\n",
    "            parts = label.split()\n",
    "            sentence_ids.append(str.strip(parts[1]))\n",
    "            sentence_labels.append(str.strip(parts[-1]))\n",
    "            \n",
    "    return {\"aid\" : article_id, \"sentences\" : article_sentences, \"labels\" : sentence_labels, \"sids\" : sentence_ids}\n",
    "\n",
    "\n",
    "test = get_sentences_and_labels(111111112, directory = dataset_folder)\n",
    "\n",
    "print(\"Number of Sentences:\", len(test[\"sentences\"]))\n",
    "print(\"Number of Labels:\", len(test[\"labels\"]))"
   ]
  },
  {
   "cell_type": "code",
   "execution_count": 18,
   "metadata": {},
   "outputs": [
    {
     "name": "stdout",
     "output_type": "stream",
     "text": [
      "293\n"
     ]
    }
   ],
   "source": [
    "#Get a list of all article ids\n",
    "article_ids = [int(f[7:-4]) for f in os.listdir(dataset_folder) if f[-4:] == \".txt\"]\n",
    "print(len(article_ids))"
   ]
  },
  {
   "cell_type": "code",
   "execution_count": 19,
   "metadata": {},
   "outputs": [
    {
     "name": "stdout",
     "output_type": "stream",
     "text": [
      "293\n"
     ]
    },
    {
     "data": {
      "text/plain": [
       "[('US bloggers banned from entering UK', '1', 'non-propaganda'),\n",
       " ('', '2', 'non-propaganda'),\n",
       " ('Two prominent US bloggers have been banned from entering the UK, the Home Office has said.',\n",
       "  '3',\n",
       "  'non-propaganda'),\n",
       " ('', '4', 'non-propaganda'),\n",
       " ('Pamela Geller and Robert Spencer co-founded anti-Muslim group Stop Islamization of America.',\n",
       "  '5',\n",
       "  'propaganda'),\n",
       " ('', '6', 'non-propaganda'),\n",
       " ('They were due to speak at an English Defence League march in Woolwich, where Drummer Lee Rigby was killed.',\n",
       "  '7',\n",
       "  'non-propaganda'),\n",
       " ('', '8', 'non-propaganda'),\n",
       " ('A government spokesman said individuals whose presence \"is not conducive to the public good\" could be excluded by the home secretary.',\n",
       "  '9',\n",
       "  'non-propaganda'),\n",
       " ('', '10', 'non-propaganda'),\n",
       " ('He added: \"We condemn all those whose behaviours and views run counter to our shared values and will not stand for extremism in any form.\"',\n",
       "  '11',\n",
       "  'propaganda'),\n",
       " ('', '12', 'non-propaganda'),\n",
       " (\"'Right decision'\", '13', 'non-propaganda'),\n",
       " ('Ms Geller, of the Atlas Shrugs blog, and Mr Spencer, of Jihad Watch, are also co-founders of the American Freedom Defense Initiative, best known for a pro-Israel \"Defeat Jihad\" poster campaign on the New York subway.',\n",
       "  '14',\n",
       "  'propaganda'),\n",
       " ('On both of their blogs the pair called their bans from entering the UK \"a striking blow against freedom\" and said the \"the nation that gave the world the Magna Carta is dead\".',\n",
       "  '15',\n",
       "  'propaganda'),\n",
       " ('', '16', 'non-propaganda'),\n",
       " ('They were due to attend a march planned by the far-right EDL to mark Armed Forces Day on 29 June, ending in Woolwich, south east London, where soldier Drummer Rigby was murdered last month.',\n",
       "  '17',\n",
       "  'non-propaganda'),\n",
       " ('', '18', 'non-propaganda'),\n",
       " ('Keith Vaz, chairman of the Home Affairs Select Committee, who had called for the bloggers to be banned from the UK, said: \"I welcome the home secretary\\'s ban on Pamela Geller and Robert Spencer from entering the country.',\n",
       "  '19',\n",
       "  'non-propaganda'),\n",
       " ('This is the right decision.', '20', 'non-propaganda'),\n",
       " ('The UK should never become a stage for inflammatory speakers who promote hate.\"',\n",
       "  '21',\n",
       "  'propaganda'),\n",
       " ('', '22', 'non-propaganda'),\n",
       " ('EDL leader Tommy Robinson, meanwhile, criticised the decision and said Ms Geller and Mr Spencer were coming to the UK to lay flowers at the place where Drummer Rigby died.',\n",
       "  '23',\n",
       "  'non-propaganda'),\n",
       " ('', '24', 'non-propaganda'),\n",
       " ('\"It\\'s embarrassing for this so-called land of democracy and freedom of speech,\" he said.',\n",
       "  '25',\n",
       "  'propaganda'),\n",
       " ('', '26', 'non-propaganda'),\n",
       " ('\"How many hate preachers are living in this country?', '27', 'propaganda'),\n",
       " ('It just shows what sort of a two-tier system we have here.\"',\n",
       "  '28',\n",
       "  'non-propaganda'),\n",
       " ('', '29', 'non-propaganda'),\n",
       " (\"'Foster hatred'\", '30', 'non-propaganda'),\n",
       " ('Anti-fascism campaigners Hope Not Hate had campaigned for the pair to not be allowed into the UK.',\n",
       "  '31',\n",
       "  'non-propaganda'),\n",
       " ('', '32', 'non-propaganda'),\n",
       " ('A researcher with the organisation, Matthew Collins, said it was \"delighted\" with the decision.',\n",
       "  '33',\n",
       "  'propaganda'),\n",
       " ('', '34', 'non-propaganda'),\n",
       " ('\"These two are among some of the most extreme anti-Muslim activists in the world.',\n",
       "  '35',\n",
       "  'non-propaganda'),\n",
       " (\"They've nothing to contribute to life in this country.\",\n",
       "  '36',\n",
       "  'non-propaganda'),\n",
       " ('', '37', 'non-propaganda'),\n",
       " ('\"They\\'re not here to contribute to good community relations.',\n",
       "  '38',\n",
       "  'non-propaganda'),\n",
       " ('They only wanted to come here and help the EDL stir up more trouble.',\n",
       "  '39',\n",
       "  'non-propaganda'),\n",
       " ('Britain doesn\\'t need more hate even just for a few days.\"',\n",
       "  '40',\n",
       "  'non-propaganda'),\n",
       " ('', '41', 'non-propaganda'),\n",
       " ('Mr Spencer put up a copy of what appears to be the exclusion decision from the Home Office on the Jihad Watch website, while Ms Geller posted a copy of her letter on her website, Atlas Shrugs.',\n",
       "  '42',\n",
       "  'non-propaganda'),\n",
       " ('', '43', 'non-propaganda'),\n",
       " ('The letters, both dated Tuesday, claim that both activists have fallen within the scope of a list of unacceptable behaviours by making statements which may \"foster hatred\" and lead to \"inter-community violence\" in the UK.',\n",
       "  '44',\n",
       "  'non-propaganda'),\n",
       " ('', '45', 'non-propaganda'),\n",
       " ('Both letters gave examples of anti-Muslim views stated by both and went on to say that should they be allowed to enter the UK the home secretary believes they would \"continue to espouse such views\".',\n",
       "  '46',\n",
       "  'non-propaganda'),\n",
       " ('', '47', 'non-propaganda'),\n",
       " ('', '48', 'non-propaganda'),\n",
       " ('', '49', 'non-propaganda'),\n",
       " ('', '50', 'non-propaganda')]"
      ]
     },
     "execution_count": 19,
     "metadata": {},
     "output_type": "execute_result"
    }
   ],
   "source": [
    "final_result = dict()\n",
    "for curr_id in article_ids:\n",
    "    curr_result = get_sentences_and_labels(curr_id,directory=dataset_folder)\n",
    "    \n",
    "    if len(curr_result[\"sentences\"])!=len(curr_result[\"labels\"]):\n",
    "        print(\"Mismatch on ID\",curr_id,\"! Skipping...\")\n",
    "        continue\n",
    "    \n",
    "    curr_result_filtered = [sl for sl in zip(curr_result[\"sentences\"], curr_result[\"sids\"], curr_result[\"labels\"])]\n",
    "    \n",
    "    final_result[curr_result[\"aid\"]] = dict()\n",
    "    final_result[curr_result[\"aid\"]][\"scount_orig\"] = len(curr_result[\"sentences\"])\n",
    "    final_result[curr_result[\"aid\"]][\"scount_new\"] = len(curr_result_filtered)\n",
    "    final_result[curr_result[\"aid\"]][\"data\"] = curr_result_filtered\n",
    "    \n",
    "print(len(final_result.keys()))\n",
    "final_result[111111112][\"data\"]"
   ]
  },
  {
   "cell_type": "code",
   "execution_count": 20,
   "metadata": {},
   "outputs": [
    {
     "name": "stdout",
     "output_type": "stream",
     "text": [
      "15170\n"
     ]
    }
   ],
   "source": [
    "#Transform to list\n",
    "sentences_all_meta = []\n",
    "for aid in final_result.keys():\n",
    "    article_sentences = final_result[aid][\"data\"]\n",
    "    for curr_sent in article_sentences:\n",
    "        sentences_all_meta.append((aid,curr_sent[0], curr_sent[1], curr_sent[2]))\n",
    "print(len(sentences_all_meta))"
   ]
  },
  {
   "cell_type": "code",
   "execution_count": 39,
   "metadata": {},
   "outputs": [
    {
     "data": {
      "text/html": [
       "<div>\n",
       "<style scoped>\n",
       "    .dataframe tbody tr th:only-of-type {\n",
       "        vertical-align: middle;\n",
       "    }\n",
       "\n",
       "    .dataframe tbody tr th {\n",
       "        vertical-align: top;\n",
       "    }\n",
       "\n",
       "    .dataframe thead th {\n",
       "        text-align: right;\n",
       "    }\n",
       "</style>\n",
       "<table border=\"1\" class=\"dataframe\">\n",
       "  <thead>\n",
       "    <tr style=\"text-align: right;\">\n",
       "      <th></th>\n",
       "      <th>aid</th>\n",
       "      <th>sentence</th>\n",
       "      <th>sid</th>\n",
       "      <th>flag</th>\n",
       "    </tr>\n",
       "  </thead>\n",
       "  <tbody>\n",
       "    <tr>\n",
       "      <th>0</th>\n",
       "      <td>111111112</td>\n",
       "      <td>US bloggers banned from entering UK</td>\n",
       "      <td>1</td>\n",
       "      <td>non-propaganda</td>\n",
       "    </tr>\n",
       "    <tr>\n",
       "      <th>2</th>\n",
       "      <td>111111112</td>\n",
       "      <td>Two prominent US bloggers have been banned fro...</td>\n",
       "      <td>3</td>\n",
       "      <td>non-propaganda</td>\n",
       "    </tr>\n",
       "    <tr>\n",
       "      <th>4</th>\n",
       "      <td>111111112</td>\n",
       "      <td>Pamela Geller and Robert Spencer co-founded an...</td>\n",
       "      <td>5</td>\n",
       "      <td>propaganda</td>\n",
       "    </tr>\n",
       "    <tr>\n",
       "      <th>6</th>\n",
       "      <td>111111112</td>\n",
       "      <td>They were due to speak at an English Defence L...</td>\n",
       "      <td>7</td>\n",
       "      <td>non-propaganda</td>\n",
       "    </tr>\n",
       "    <tr>\n",
       "      <th>8</th>\n",
       "      <td>111111112</td>\n",
       "      <td>A government spokesman said individuals whose ...</td>\n",
       "      <td>9</td>\n",
       "      <td>non-propaganda</td>\n",
       "    </tr>\n",
       "  </tbody>\n",
       "</table>\n",
       "</div>"
      ],
      "text/plain": [
       "         aid                                           sentence sid  \\\n",
       "0  111111112                US bloggers banned from entering UK   1   \n",
       "2  111111112  Two prominent US bloggers have been banned fro...   3   \n",
       "4  111111112  Pamela Geller and Robert Spencer co-founded an...   5   \n",
       "6  111111112  They were due to speak at an English Defence L...   7   \n",
       "8  111111112  A government spokesman said individuals whose ...   9   \n",
       "\n",
       "             flag  \n",
       "0  non-propaganda  \n",
       "2  non-propaganda  \n",
       "4      propaganda  \n",
       "6  non-propaganda  \n",
       "8  non-propaganda  "
      ]
     },
     "execution_count": 39,
     "metadata": {},
     "output_type": "execute_result"
    }
   ],
   "source": [
    "sentences = pd.DataFrame.from_records(sentences_all_meta,columns=[\"aid\", \"sentence\", \"sid\", \"flag\"])\n",
    "sentences = sentences[sentences.sentence != \"\"]\n",
    "sentences = sentences[sentences.sentence != \"---\"]\n",
    "sentences = sentences[sentences.sentence != \"...\"]\n",
    "sentences.head()"
   ]
  },
  {
   "cell_type": "code",
   "execution_count": 40,
   "metadata": {},
   "outputs": [
    {
     "data": {
      "text/plain": [
       "(14258, 4)"
      ]
     },
     "execution_count": 40,
     "metadata": {},
     "output_type": "execute_result"
    }
   ],
   "source": [
    "sentences.shape"
   ]
  },
  {
   "cell_type": "code",
   "execution_count": null,
   "metadata": {},
   "outputs": [],
   "source": []
  }
 ],
 "metadata": {
  "kernelspec": {
   "display_name": "Python 3",
   "language": "python",
   "name": "python3"
  },
  "language_info": {
   "codemirror_mode": {
    "name": "ipython",
    "version": 3
   },
   "file_extension": ".py",
   "mimetype": "text/x-python",
   "name": "python",
   "nbconvert_exporter": "python",
   "pygments_lexer": "ipython3",
   "version": "3.7.3"
  }
 },
 "nbformat": 4,
 "nbformat_minor": 2
}
